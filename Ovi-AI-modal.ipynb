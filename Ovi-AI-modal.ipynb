{
  "cells": [
    {
      "cell_type": "markdown",
      "source": [
        "WELCOME TO MUSEFLOW AI",
      ],
      "metadata": {
        "id": "BVQbmU22NZFD"
      },
      "id": "BVQbmU22NZFD"
    },
    {
      "cell_type": "markdown",
      "source": [
        "# **Clone**"
      ],
      "metadata": {
        "id": "h9Nh8GD2I8zL"
      },
      "id": "h9Nh8GD2I8zL"
    },
    {
      "cell_type": "code",
      "source": [
        "%cd /root\n",
        "!git clone https://github.com/character-ai/Ovi.git\n",
        "%cd Ovi"
      ],
      "metadata": {
        "id": "2riOmri9JAMD"
      },
      "id": "2riOmri9JAMD",
      "execution_count": null,
      "outputs": []
    },
    {
      "cell_type": "markdown",
      "source": [
        "# **Requirements**"
      ],
      "metadata": {
        "id": "qmcO2G4KJGjz"
      },
      "id": "qmcO2G4KJGjz"
    },
    {
      "cell_type": "code",
      "source": [
        "!pip install torch torchvision --index-url https://download.pytorch.org/whl/cu128\n",
        "!pip install -r requirements.txt\n",
        "!pip install flash_attn --no-build-isolation\n",
        "!pip install"
      ],
      "metadata": {
        "id": "lSPW89PNJMvS"
      },
      "id": "lSPW89PNJMvS",
      "execution_count": null,
      "outputs": []
    },
    {
      "cell_type": "markdown",
      "source": [
        "# **FFMPEG**"
      ],
      "metadata": {
        "id": "SCF2V9JNJllL"
      },
      "id": "SCF2V9JNJllL"
    },
    {
      "cell_type": "code",
      "source": [
        "!apt-get -y update\n",
        "!apt-get install -y libglib2.0-0 libgl1\n",
        "!apt-get install -y ffmpeg"
      ],
      "metadata": {
        "id": "3q7maWTSJnu7"
      },
      "id": "3q7maWTSJnu7",
      "execution_count": null,
      "outputs": []
    },
    {
      "cell_type": "markdown",
      "source": [
        "# **Download Models**"
      ],
      "metadata": {
        "id": "6DAF6ftOKYuL"
      },
      "id": "6DAF6ftOKYuL"
    },
    {
      "cell_type": "code",
      "source": [
        "!python download_weights.py"
      ],
      "metadata": {
        "id": "s85Yj0jyKWt7"
      },
      "id": "s85Yj0jyKWt7",
      "execution_count": null,
      "outputs": []
    },
    {
      "cell_type": "markdown",
      "source": [
        "# **Main Code**"
      ],
      "metadata": {
        "id": "keZ4OfdJKgv6"
      },
      "id": "keZ4OfdJKgv6"
    },
    {
      "cell_type": "code",
      "source": [
        "!python gradio_app.py"
      ],
      "metadata": {
        "id": "_GwhOtB3Kiz6"
      },
      "id": "_GwhOtB3Kiz6",
      "execution_count": null,
      "outputs": []
    }
  ],
  "metadata": {
    "kernelspec": {
      "display_name": "Python",
      "language": "python",
      "name": "python3"
    },
    "language_info": {
      "codemirror_mode": {
        "name": "ipython",
        "version": 3
      },
      "file_extension": ".py",
      "mimetype": "text/x-python",
      "name": "python",
      "nbconvert_exporter": "python",
      "pygments_lexer": "ipython3"
    },
    "colab": {
      "provenance": []
    }
  },
  "nbformat": 4,
  "nbformat_minor": 5
}